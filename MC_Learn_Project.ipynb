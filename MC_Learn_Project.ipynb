{
 "cells": [
  {
   "cell_type": "markdown",
   "metadata": {},
   "source": [
    "# Assignment Nov 2019 Machine Learning and Statistics - GMIT "
   ]
  },
  {
   "cell_type": "markdown",
   "metadata": {},
   "source": [
    "## Introduction and Overview"
   ]
  },
  {
   "cell_type": "markdown",
   "metadata": {},
   "source": [
    "This assignment concerns the well known Boston House Prices Dataset. The dataset was created from data taken by the US Census Service in 1978. It contains information about house pricing and other associated characteristics in Boston. More information can be seen in the following Print and Describe commands below. \n",
    "\n",
    "This assignment consists of the following sections:\n",
    "1. Loading the dataset and presenting it in some sort of readable/understandable format.\n",
    "2. Description - Descriptive statistics and plots to describe the dataset.\n",
    "3. Infer - Inferential statistics to analyse whether there is a significant difference in median house prices between those that are along the Charles river and those that are not.\n",
    "4. Predict - Create a neural network that can predict the median house price based on other variables in the dataset. "
   ]
  },
  {
   "cell_type": "code",
   "execution_count": 109,
   "metadata": {},
   "outputs": [],
   "source": [
    "# importing modules/libraries \n",
    "\n",
    "from sklearn.datasets import load_boston\n",
    "import numpy as np\n",
    "import scipy as sp\n",
    "import pandas as pd\n",
    "import seaborn as sns\n",
    "import matplotlib.pyplot as plt\n",
    "%matplotlib inline\n",
    "\n",
    "from pandas import set_option # to set precision\n",
    "from scipy import stats\n",
    "from scipy.stats import pearsonr\n"
   ]
  },
  {
   "cell_type": "markdown",
   "metadata": {},
   "source": [
    "## Section 1 - Loading the Dataset"
   ]
  },
  {
   "cell_type": "code",
   "execution_count": 110,
   "metadata": {},
   "outputs": [],
   "source": [
    "boston = load_boston() # load the dataset built into sklearn"
   ]
  },
  {
   "cell_type": "code",
   "execution_count": 111,
   "metadata": {},
   "outputs": [
    {
     "name": "stdout",
     "output_type": "stream",
     "text": [
      "(506, 13)\n"
     ]
    }
   ],
   "source": [
    "print (boston.data.shape) # print the shape of it, what is it, what's in it"
   ]
  },
  {
   "cell_type": "markdown",
   "metadata": {},
   "source": [
    "So it looks like the dataset has 506 rows and 13 columns."
   ]
  },
  {
   "cell_type": "code",
   "execution_count": 112,
   "metadata": {
    "scrolled": true
   },
   "outputs": [
    {
     "name": "stdout",
     "output_type": "stream",
     "text": [
      ".. _boston_dataset:\n",
      "\n",
      "Boston house prices dataset\n",
      "---------------------------\n",
      "\n",
      "**Data Set Characteristics:**  \n",
      "\n",
      "    :Number of Instances: 506 \n",
      "\n",
      "    :Number of Attributes: 13 numeric/categorical predictive. Median Value (attribute 14) is usually the target.\n",
      "\n",
      "    :Attribute Information (in order):\n",
      "        - CRIM     per capita crime rate by town\n",
      "        - ZN       proportion of residential land zoned for lots over 25,000 sq.ft.\n",
      "        - INDUS    proportion of non-retail business acres per town\n",
      "        - CHAS     Charles River dummy variable (= 1 if tract bounds river; 0 otherwise)\n",
      "        - NOX      nitric oxides concentration (parts per 10 million)\n",
      "        - RM       average number of rooms per dwelling\n",
      "        - AGE      proportion of owner-occupied units built prior to 1940\n",
      "        - DIS      weighted distances to five Boston employment centres\n",
      "        - RAD      index of accessibility to radial highways\n",
      "        - TAX      full-value property-tax rate per $10,000\n",
      "        - PTRATIO  pupil-teacher ratio by town\n",
      "        - B        1000(Bk - 0.63)^2 where Bk is the proportion of blacks by town\n",
      "        - LSTAT    % lower status of the population\n",
      "        - MEDV     Median value of owner-occupied homes in $1000's\n",
      "\n",
      "    :Missing Attribute Values: None\n",
      "\n",
      "    :Creator: Harrison, D. and Rubinfeld, D.L.\n",
      "\n",
      "This is a copy of UCI ML housing dataset.\n",
      "https://archive.ics.uci.edu/ml/machine-learning-databases/housing/\n",
      "\n",
      "\n",
      "This dataset was taken from the StatLib library which is maintained at Carnegie Mellon University.\n",
      "\n",
      "The Boston house-price data of Harrison, D. and Rubinfeld, D.L. 'Hedonic\n",
      "prices and the demand for clean air', J. Environ. Economics & Management,\n",
      "vol.5, 81-102, 1978.   Used in Belsley, Kuh & Welsch, 'Regression diagnostics\n",
      "...', Wiley, 1980.   N.B. Various transformations are used in the table on\n",
      "pages 244-261 of the latter.\n",
      "\n",
      "The Boston house-price data has been used in many machine learning papers that address regression\n",
      "problems.   \n",
      "     \n",
      ".. topic:: References\n",
      "\n",
      "   - Belsley, Kuh & Welsch, 'Regression diagnostics: Identifying Influential Data and Sources of Collinearity', Wiley, 1980. 244-261.\n",
      "   - Quinlan,R. (1993). Combining Instance-Based and Model-Based Learning. In Proceedings on the Tenth International Conference of Machine Learning, 236-243, University of Massachusetts, Amherst. Morgan Kaufmann.\n",
      "\n"
     ]
    }
   ],
   "source": [
    "print(boston.DESCR)"
   ]
  },
  {
   "cell_type": "markdown",
   "metadata": {},
   "source": [
    "The dataset has 13 columns but in the DESCR output above there are 14 attributes. It mentions that MEDV (median value of houses) is usually the target. Opening the above link to the dataset gives a number of files. They are Housing names and Housing data. Opening these in a text editor doesn't simplify anything and the text above only gives a little background of the data itself. "
   ]
  },
  {
   "cell_type": "code",
   "execution_count": 113,
   "metadata": {},
   "outputs": [
    {
     "name": "stdout",
     "output_type": "stream",
     "text": [
      "['CRIM' 'ZN' 'INDUS' 'CHAS' 'NOX' 'RM' 'AGE' 'DIS' 'RAD' 'TAX' 'PTRATIO'\n",
      " 'B' 'LSTAT']\n"
     ]
    }
   ],
   "source": [
    "print(boston.feature_names) \n",
    "# ouput the feature names to check/understand what is in the columns since there are 14 attributs and 13 are listed "
   ]
  },
  {
   "cell_type": "code",
   "execution_count": 114,
   "metadata": {},
   "outputs": [
    {
     "name": "stdout",
     "output_type": "stream",
     "text": [
      "dict_keys(['data', 'target', 'feature_names', 'DESCR', 'filename'])\n"
     ]
    }
   ],
   "source": [
    "print (boston.keys()) # what else is in the dataset?"
   ]
  },
  {
   "cell_type": "markdown",
   "metadata": {},
   "source": [
    "The following print commands can be used to view the contents of each of the keys "
   ]
  },
  {
   "cell_type": "code",
   "execution_count": 115,
   "metadata": {},
   "outputs": [],
   "source": [
    "#print (boston.data)\n",
    "#print (boston.target)\n",
    "#print (boston.feature_names)\n",
    "#print (boston.filename)"
   ]
  },
  {
   "cell_type": "code",
   "execution_count": 116,
   "metadata": {},
   "outputs": [],
   "source": [
    "bos = pd.DataFrame(boston.data) \n",
    "# pass to pandas because it's still not 100% clear what is in this dataset\n",
    "# is easier to work with pandas"
   ]
  },
  {
   "cell_type": "code",
   "execution_count": 117,
   "metadata": {},
   "outputs": [
    {
     "data": {
      "text/html": [
       "<div>\n",
       "<style scoped>\n",
       "    .dataframe tbody tr th:only-of-type {\n",
       "        vertical-align: middle;\n",
       "    }\n",
       "\n",
       "    .dataframe tbody tr th {\n",
       "        vertical-align: top;\n",
       "    }\n",
       "\n",
       "    .dataframe thead th {\n",
       "        text-align: right;\n",
       "    }\n",
       "</style>\n",
       "<table border=\"1\" class=\"dataframe\">\n",
       "  <thead>\n",
       "    <tr style=\"text-align: right;\">\n",
       "      <th></th>\n",
       "      <th>0</th>\n",
       "      <th>1</th>\n",
       "      <th>2</th>\n",
       "      <th>3</th>\n",
       "      <th>4</th>\n",
       "      <th>5</th>\n",
       "      <th>6</th>\n",
       "      <th>7</th>\n",
       "      <th>8</th>\n",
       "      <th>9</th>\n",
       "      <th>10</th>\n",
       "      <th>11</th>\n",
       "      <th>12</th>\n",
       "    </tr>\n",
       "  </thead>\n",
       "  <tbody>\n",
       "    <tr>\n",
       "      <th>0</th>\n",
       "      <td>0.006</td>\n",
       "      <td>18.0</td>\n",
       "      <td>2.31</td>\n",
       "      <td>0.0</td>\n",
       "      <td>0.538</td>\n",
       "      <td>6.575</td>\n",
       "      <td>65.2</td>\n",
       "      <td>4.090</td>\n",
       "      <td>1.0</td>\n",
       "      <td>296.0</td>\n",
       "      <td>15.3</td>\n",
       "      <td>396.9</td>\n",
       "      <td>4.98</td>\n",
       "    </tr>\n",
       "    <tr>\n",
       "      <th>1</th>\n",
       "      <td>0.027</td>\n",
       "      <td>0.0</td>\n",
       "      <td>7.07</td>\n",
       "      <td>0.0</td>\n",
       "      <td>0.469</td>\n",
       "      <td>6.421</td>\n",
       "      <td>78.9</td>\n",
       "      <td>4.967</td>\n",
       "      <td>2.0</td>\n",
       "      <td>242.0</td>\n",
       "      <td>17.8</td>\n",
       "      <td>396.9</td>\n",
       "      <td>9.14</td>\n",
       "    </tr>\n",
       "  </tbody>\n",
       "</table>\n",
       "</div>"
      ],
      "text/plain": [
       "      0     1     2    3      4      5     6      7    8      9     10     11  \\\n",
       "0  0.006  18.0  2.31  0.0  0.538  6.575  65.2  4.090  1.0  296.0  15.3  396.9   \n",
       "1  0.027   0.0  7.07  0.0  0.469  6.421  78.9  4.967  2.0  242.0  17.8  396.9   \n",
       "\n",
       "     12  \n",
       "0  4.98  \n",
       "1  9.14  "
      ]
     },
     "execution_count": 117,
     "metadata": {},
     "output_type": "execute_result"
    }
   ],
   "source": [
    "(bos.head(2)) # ok but what does this mean, there are only 13 here. Where is the price/ what are these numbers?"
   ]
  },
  {
   "cell_type": "code",
   "execution_count": 118,
   "metadata": {},
   "outputs": [
    {
     "data": {
      "text/html": [
       "<div>\n",
       "<style scoped>\n",
       "    .dataframe tbody tr th:only-of-type {\n",
       "        vertical-align: middle;\n",
       "    }\n",
       "\n",
       "    .dataframe tbody tr th {\n",
       "        vertical-align: top;\n",
       "    }\n",
       "\n",
       "    .dataframe thead th {\n",
       "        text-align: right;\n",
       "    }\n",
       "</style>\n",
       "<table border=\"1\" class=\"dataframe\">\n",
       "  <thead>\n",
       "    <tr style=\"text-align: right;\">\n",
       "      <th></th>\n",
       "      <th>CRIM</th>\n",
       "      <th>ZN</th>\n",
       "      <th>INDUS</th>\n",
       "      <th>CHAS</th>\n",
       "      <th>NOX</th>\n",
       "      <th>RM</th>\n",
       "      <th>AGE</th>\n",
       "      <th>DIS</th>\n",
       "      <th>RAD</th>\n",
       "      <th>TAX</th>\n",
       "      <th>PTRATIO</th>\n",
       "      <th>B</th>\n",
       "      <th>LSTAT</th>\n",
       "      <th>MEDV</th>\n",
       "    </tr>\n",
       "  </thead>\n",
       "  <tbody>\n",
       "    <tr>\n",
       "      <th>0</th>\n",
       "      <td>0.006</td>\n",
       "      <td>18.0</td>\n",
       "      <td>2.31</td>\n",
       "      <td>0.0</td>\n",
       "      <td>0.538</td>\n",
       "      <td>6.575</td>\n",
       "      <td>65.2</td>\n",
       "      <td>4.090</td>\n",
       "      <td>1.0</td>\n",
       "      <td>296.0</td>\n",
       "      <td>15.3</td>\n",
       "      <td>396.9</td>\n",
       "      <td>4.98</td>\n",
       "      <td>24.0</td>\n",
       "    </tr>\n",
       "    <tr>\n",
       "      <th>1</th>\n",
       "      <td>0.027</td>\n",
       "      <td>0.0</td>\n",
       "      <td>7.07</td>\n",
       "      <td>0.0</td>\n",
       "      <td>0.469</td>\n",
       "      <td>6.421</td>\n",
       "      <td>78.9</td>\n",
       "      <td>4.967</td>\n",
       "      <td>2.0</td>\n",
       "      <td>242.0</td>\n",
       "      <td>17.8</td>\n",
       "      <td>396.9</td>\n",
       "      <td>9.14</td>\n",
       "      <td>21.6</td>\n",
       "    </tr>\n",
       "  </tbody>\n",
       "</table>\n",
       "</div>"
      ],
      "text/plain": [
       "    CRIM    ZN  INDUS  CHAS    NOX     RM   AGE    DIS  RAD    TAX  PTRATIO  \\\n",
       "0  0.006  18.0   2.31   0.0  0.538  6.575  65.2  4.090  1.0  296.0     15.3   \n",
       "1  0.027   0.0   7.07   0.0  0.469  6.421  78.9  4.967  2.0  242.0     17.8   \n",
       "\n",
       "       B  LSTAT  MEDV  \n",
       "0  396.9   4.98  24.0  \n",
       "1  396.9   9.14  21.6  "
      ]
     },
     "execution_count": 118,
     "metadata": {},
     "output_type": "execute_result"
    }
   ],
   "source": [
    "bos.columns = boston.feature_names # add attributes to column names \n",
    "bos['MEDV'] = boston.target # add the median value (target value as described above)\n",
    "\n",
    "(bos.head(2))"
   ]
  },
  {
   "cell_type": "markdown",
   "metadata": {},
   "source": [
    "It's useful to check if any values are missing from the dataset. In this case (below), there is no missing data. "
   ]
  },
  {
   "cell_type": "code",
   "execution_count": 119,
   "metadata": {},
   "outputs": [
    {
     "data": {
      "text/plain": [
       "CRIM       False\n",
       "ZN         False\n",
       "INDUS      False\n",
       "CHAS       False\n",
       "NOX        False\n",
       "RM         False\n",
       "AGE        False\n",
       "DIS        False\n",
       "RAD        False\n",
       "TAX        False\n",
       "PTRATIO    False\n",
       "B          False\n",
       "LSTAT      False\n",
       "MEDV       False\n",
       "dtype: bool"
      ]
     },
     "execution_count": 119,
     "metadata": {},
     "output_type": "execute_result"
    }
   ],
   "source": [
    "pd.isnull(bos).any() # check for missing data"
   ]
  },
  {
   "cell_type": "code",
   "execution_count": 120,
   "metadata": {},
   "outputs": [
    {
     "data": {
      "text/plain": [
       "CRIM       float64\n",
       "ZN         float64\n",
       "INDUS      float64\n",
       "CHAS       float64\n",
       "NOX        float64\n",
       "RM         float64\n",
       "AGE        float64\n",
       "DIS        float64\n",
       "RAD        float64\n",
       "TAX        float64\n",
       "PTRATIO    float64\n",
       "B          float64\n",
       "LSTAT      float64\n",
       "MEDV       float64\n",
       "dtype: object"
      ]
     },
     "execution_count": 120,
     "metadata": {},
     "output_type": "execute_result"
    }
   ],
   "source": [
    "bos.dtypes # didn't know what a dtype is \n",
    "# taken from https://mode.com/example-gallery/python_histogram/"
   ]
  },
  {
   "cell_type": "markdown",
   "metadata": {},
   "source": [
    "## Section 2  - Descriptive Statistics"
   ]
  },
  {
   "cell_type": "code",
   "execution_count": 121,
   "metadata": {
    "scrolled": true
   },
   "outputs": [
    {
     "data": {
      "text/html": [
       "<div>\n",
       "<style scoped>\n",
       "    .dataframe tbody tr th:only-of-type {\n",
       "        vertical-align: middle;\n",
       "    }\n",
       "\n",
       "    .dataframe tbody tr th {\n",
       "        vertical-align: top;\n",
       "    }\n",
       "\n",
       "    .dataframe thead th {\n",
       "        text-align: right;\n",
       "    }\n",
       "</style>\n",
       "<table border=\"1\" class=\"dataframe\">\n",
       "  <thead>\n",
       "    <tr style=\"text-align: right;\">\n",
       "      <th></th>\n",
       "      <th>CRIM</th>\n",
       "      <th>ZN</th>\n",
       "      <th>INDUS</th>\n",
       "      <th>CHAS</th>\n",
       "      <th>NOX</th>\n",
       "      <th>RM</th>\n",
       "      <th>AGE</th>\n",
       "      <th>DIS</th>\n",
       "      <th>RAD</th>\n",
       "      <th>TAX</th>\n",
       "      <th>PTRATIO</th>\n",
       "      <th>B</th>\n",
       "      <th>LSTAT</th>\n",
       "      <th>MEDV</th>\n",
       "    </tr>\n",
       "  </thead>\n",
       "  <tbody>\n",
       "    <tr>\n",
       "      <th>count</th>\n",
       "      <td>506.000</td>\n",
       "      <td>506.000</td>\n",
       "      <td>506.000</td>\n",
       "      <td>506.000</td>\n",
       "      <td>506.000</td>\n",
       "      <td>506.000</td>\n",
       "      <td>506.000</td>\n",
       "      <td>506.000</td>\n",
       "      <td>506.000</td>\n",
       "      <td>506.000</td>\n",
       "      <td>506.000</td>\n",
       "      <td>506.000</td>\n",
       "      <td>506.000</td>\n",
       "      <td>506.000</td>\n",
       "    </tr>\n",
       "    <tr>\n",
       "      <th>mean</th>\n",
       "      <td>3.614</td>\n",
       "      <td>11.364</td>\n",
       "      <td>11.137</td>\n",
       "      <td>0.069</td>\n",
       "      <td>0.555</td>\n",
       "      <td>6.285</td>\n",
       "      <td>68.575</td>\n",
       "      <td>3.795</td>\n",
       "      <td>9.549</td>\n",
       "      <td>408.237</td>\n",
       "      <td>18.456</td>\n",
       "      <td>356.674</td>\n",
       "      <td>12.653</td>\n",
       "      <td>22.533</td>\n",
       "    </tr>\n",
       "    <tr>\n",
       "      <th>std</th>\n",
       "      <td>8.602</td>\n",
       "      <td>23.322</td>\n",
       "      <td>6.860</td>\n",
       "      <td>0.254</td>\n",
       "      <td>0.116</td>\n",
       "      <td>0.703</td>\n",
       "      <td>28.149</td>\n",
       "      <td>2.106</td>\n",
       "      <td>8.707</td>\n",
       "      <td>168.537</td>\n",
       "      <td>2.165</td>\n",
       "      <td>91.295</td>\n",
       "      <td>7.141</td>\n",
       "      <td>9.197</td>\n",
       "    </tr>\n",
       "    <tr>\n",
       "      <th>min</th>\n",
       "      <td>0.006</td>\n",
       "      <td>0.000</td>\n",
       "      <td>0.460</td>\n",
       "      <td>0.000</td>\n",
       "      <td>0.385</td>\n",
       "      <td>3.561</td>\n",
       "      <td>2.900</td>\n",
       "      <td>1.130</td>\n",
       "      <td>1.000</td>\n",
       "      <td>187.000</td>\n",
       "      <td>12.600</td>\n",
       "      <td>0.320</td>\n",
       "      <td>1.730</td>\n",
       "      <td>5.000</td>\n",
       "    </tr>\n",
       "    <tr>\n",
       "      <th>25%</th>\n",
       "      <td>0.082</td>\n",
       "      <td>0.000</td>\n",
       "      <td>5.190</td>\n",
       "      <td>0.000</td>\n",
       "      <td>0.449</td>\n",
       "      <td>5.886</td>\n",
       "      <td>45.025</td>\n",
       "      <td>2.100</td>\n",
       "      <td>4.000</td>\n",
       "      <td>279.000</td>\n",
       "      <td>17.400</td>\n",
       "      <td>375.377</td>\n",
       "      <td>6.950</td>\n",
       "      <td>17.025</td>\n",
       "    </tr>\n",
       "    <tr>\n",
       "      <th>50%</th>\n",
       "      <td>0.257</td>\n",
       "      <td>0.000</td>\n",
       "      <td>9.690</td>\n",
       "      <td>0.000</td>\n",
       "      <td>0.538</td>\n",
       "      <td>6.208</td>\n",
       "      <td>77.500</td>\n",
       "      <td>3.207</td>\n",
       "      <td>5.000</td>\n",
       "      <td>330.000</td>\n",
       "      <td>19.050</td>\n",
       "      <td>391.440</td>\n",
       "      <td>11.360</td>\n",
       "      <td>21.200</td>\n",
       "    </tr>\n",
       "    <tr>\n",
       "      <th>75%</th>\n",
       "      <td>3.677</td>\n",
       "      <td>12.500</td>\n",
       "      <td>18.100</td>\n",
       "      <td>0.000</td>\n",
       "      <td>0.624</td>\n",
       "      <td>6.623</td>\n",
       "      <td>94.075</td>\n",
       "      <td>5.188</td>\n",
       "      <td>24.000</td>\n",
       "      <td>666.000</td>\n",
       "      <td>20.200</td>\n",
       "      <td>396.225</td>\n",
       "      <td>16.955</td>\n",
       "      <td>25.000</td>\n",
       "    </tr>\n",
       "    <tr>\n",
       "      <th>max</th>\n",
       "      <td>88.976</td>\n",
       "      <td>100.000</td>\n",
       "      <td>27.740</td>\n",
       "      <td>1.000</td>\n",
       "      <td>0.871</td>\n",
       "      <td>8.780</td>\n",
       "      <td>100.000</td>\n",
       "      <td>12.127</td>\n",
       "      <td>24.000</td>\n",
       "      <td>711.000</td>\n",
       "      <td>22.000</td>\n",
       "      <td>396.900</td>\n",
       "      <td>37.970</td>\n",
       "      <td>50.000</td>\n",
       "    </tr>\n",
       "  </tbody>\n",
       "</table>\n",
       "</div>"
      ],
      "text/plain": [
       "          CRIM       ZN    INDUS     CHAS      NOX       RM      AGE      DIS  \\\n",
       "count  506.000  506.000  506.000  506.000  506.000  506.000  506.000  506.000   \n",
       "mean     3.614   11.364   11.137    0.069    0.555    6.285   68.575    3.795   \n",
       "std      8.602   23.322    6.860    0.254    0.116    0.703   28.149    2.106   \n",
       "min      0.006    0.000    0.460    0.000    0.385    3.561    2.900    1.130   \n",
       "25%      0.082    0.000    5.190    0.000    0.449    5.886   45.025    2.100   \n",
       "50%      0.257    0.000    9.690    0.000    0.538    6.208   77.500    3.207   \n",
       "75%      3.677   12.500   18.100    0.000    0.624    6.623   94.075    5.188   \n",
       "max     88.976  100.000   27.740    1.000    0.871    8.780  100.000   12.127   \n",
       "\n",
       "           RAD      TAX  PTRATIO        B    LSTAT     MEDV  \n",
       "count  506.000  506.000  506.000  506.000  506.000  506.000  \n",
       "mean     9.549  408.237   18.456  356.674   12.653   22.533  \n",
       "std      8.707  168.537    2.165   91.295    7.141    9.197  \n",
       "min      1.000  187.000   12.600    0.320    1.730    5.000  \n",
       "25%      4.000  279.000   17.400  375.377    6.950   17.025  \n",
       "50%      5.000  330.000   19.050  391.440   11.360   21.200  \n",
       "75%     24.000  666.000   20.200  396.225   16.955   25.000  \n",
       "max     24.000  711.000   22.000  396.900   37.970   50.000  "
      ]
     },
     "execution_count": 121,
     "metadata": {},
     "output_type": "execute_result"
    }
   ],
   "source": [
    "set_option('precision', 3) #easier to look at decimal precison\n",
    "(bos.describe()) # summary statistics. To swap rows with columns add (.T)"
   ]
  },
  {
   "cell_type": "code",
   "execution_count": 122,
   "metadata": {},
   "outputs": [
    {
     "name": "stdout",
     "output_type": "stream",
     "text": [
      "21.2\n",
      "22.532806324110677\n"
     ]
    }
   ],
   "source": [
    "# just want to check what the difference is between mean and median on the MEDV column because\n",
    "# slightly confusing terminology between mean of median value and median of median values etc. etc.  \n",
    "median_price = np.median(boston.target)\n",
    "mean_price = np.mean(boston.target)\n",
    "print (median_price)\n",
    "print (mean_price)"
   ]
  },
  {
   "cell_type": "markdown",
   "metadata": {},
   "source": [
    "The summary is well presented using pandas and makes it infinitely easier to view the dataset. However, very little can be derived from just the summary. I'm certainly no expert on either boston or the housing market. Viewing the data graphically or understanding each attributes relationship to one another may give some insight into each attribute i.e. shape, distribution, outliers etc. "
   ]
  },
  {
   "cell_type": "code",
   "execution_count": 123,
   "metadata": {},
   "outputs": [
    {
     "data": {
      "text/html": [
       "<div>\n",
       "<style scoped>\n",
       "    .dataframe tbody tr th:only-of-type {\n",
       "        vertical-align: middle;\n",
       "    }\n",
       "\n",
       "    .dataframe tbody tr th {\n",
       "        vertical-align: top;\n",
       "    }\n",
       "\n",
       "    .dataframe thead th {\n",
       "        text-align: right;\n",
       "    }\n",
       "</style>\n",
       "<table border=\"1\" class=\"dataframe\">\n",
       "  <thead>\n",
       "    <tr style=\"text-align: right;\">\n",
       "      <th></th>\n",
       "      <th>CRIM</th>\n",
       "      <th>ZN</th>\n",
       "      <th>INDUS</th>\n",
       "      <th>CHAS</th>\n",
       "      <th>NOX</th>\n",
       "      <th>RM</th>\n",
       "      <th>AGE</th>\n",
       "      <th>DIS</th>\n",
       "      <th>RAD</th>\n",
       "      <th>TAX</th>\n",
       "      <th>PTRATIO</th>\n",
       "      <th>B</th>\n",
       "      <th>LSTAT</th>\n",
       "      <th>MEDV</th>\n",
       "    </tr>\n",
       "  </thead>\n",
       "  <tbody>\n",
       "    <tr>\n",
       "      <th>CRIM</th>\n",
       "      <td>1.000</td>\n",
       "      <td>-0.200</td>\n",
       "      <td>0.407</td>\n",
       "      <td>-0.056</td>\n",
       "      <td>0.421</td>\n",
       "      <td>-0.219</td>\n",
       "      <td>0.353</td>\n",
       "      <td>-0.380</td>\n",
       "      <td>0.626</td>\n",
       "      <td>0.583</td>\n",
       "      <td>0.290</td>\n",
       "      <td>-0.385</td>\n",
       "      <td>0.456</td>\n",
       "      <td>-0.388</td>\n",
       "    </tr>\n",
       "    <tr>\n",
       "      <th>ZN</th>\n",
       "      <td>-0.200</td>\n",
       "      <td>1.000</td>\n",
       "      <td>-0.534</td>\n",
       "      <td>-0.043</td>\n",
       "      <td>-0.517</td>\n",
       "      <td>0.312</td>\n",
       "      <td>-0.570</td>\n",
       "      <td>0.664</td>\n",
       "      <td>-0.312</td>\n",
       "      <td>-0.315</td>\n",
       "      <td>-0.392</td>\n",
       "      <td>0.176</td>\n",
       "      <td>-0.413</td>\n",
       "      <td>0.360</td>\n",
       "    </tr>\n",
       "    <tr>\n",
       "      <th>INDUS</th>\n",
       "      <td>0.407</td>\n",
       "      <td>-0.534</td>\n",
       "      <td>1.000</td>\n",
       "      <td>0.063</td>\n",
       "      <td>0.764</td>\n",
       "      <td>-0.392</td>\n",
       "      <td>0.645</td>\n",
       "      <td>-0.708</td>\n",
       "      <td>0.595</td>\n",
       "      <td>0.721</td>\n",
       "      <td>0.383</td>\n",
       "      <td>-0.357</td>\n",
       "      <td>0.604</td>\n",
       "      <td>-0.484</td>\n",
       "    </tr>\n",
       "    <tr>\n",
       "      <th>CHAS</th>\n",
       "      <td>-0.056</td>\n",
       "      <td>-0.043</td>\n",
       "      <td>0.063</td>\n",
       "      <td>1.000</td>\n",
       "      <td>0.091</td>\n",
       "      <td>0.091</td>\n",
       "      <td>0.087</td>\n",
       "      <td>-0.099</td>\n",
       "      <td>-0.007</td>\n",
       "      <td>-0.036</td>\n",
       "      <td>-0.122</td>\n",
       "      <td>0.049</td>\n",
       "      <td>-0.054</td>\n",
       "      <td>0.175</td>\n",
       "    </tr>\n",
       "    <tr>\n",
       "      <th>NOX</th>\n",
       "      <td>0.421</td>\n",
       "      <td>-0.517</td>\n",
       "      <td>0.764</td>\n",
       "      <td>0.091</td>\n",
       "      <td>1.000</td>\n",
       "      <td>-0.302</td>\n",
       "      <td>0.731</td>\n",
       "      <td>-0.769</td>\n",
       "      <td>0.611</td>\n",
       "      <td>0.668</td>\n",
       "      <td>0.189</td>\n",
       "      <td>-0.380</td>\n",
       "      <td>0.591</td>\n",
       "      <td>-0.427</td>\n",
       "    </tr>\n",
       "    <tr>\n",
       "      <th>RM</th>\n",
       "      <td>-0.219</td>\n",
       "      <td>0.312</td>\n",
       "      <td>-0.392</td>\n",
       "      <td>0.091</td>\n",
       "      <td>-0.302</td>\n",
       "      <td>1.000</td>\n",
       "      <td>-0.240</td>\n",
       "      <td>0.205</td>\n",
       "      <td>-0.210</td>\n",
       "      <td>-0.292</td>\n",
       "      <td>-0.356</td>\n",
       "      <td>0.128</td>\n",
       "      <td>-0.614</td>\n",
       "      <td>0.695</td>\n",
       "    </tr>\n",
       "    <tr>\n",
       "      <th>AGE</th>\n",
       "      <td>0.353</td>\n",
       "      <td>-0.570</td>\n",
       "      <td>0.645</td>\n",
       "      <td>0.087</td>\n",
       "      <td>0.731</td>\n",
       "      <td>-0.240</td>\n",
       "      <td>1.000</td>\n",
       "      <td>-0.748</td>\n",
       "      <td>0.456</td>\n",
       "      <td>0.506</td>\n",
       "      <td>0.262</td>\n",
       "      <td>-0.274</td>\n",
       "      <td>0.602</td>\n",
       "      <td>-0.377</td>\n",
       "    </tr>\n",
       "    <tr>\n",
       "      <th>DIS</th>\n",
       "      <td>-0.380</td>\n",
       "      <td>0.664</td>\n",
       "      <td>-0.708</td>\n",
       "      <td>-0.099</td>\n",
       "      <td>-0.769</td>\n",
       "      <td>0.205</td>\n",
       "      <td>-0.748</td>\n",
       "      <td>1.000</td>\n",
       "      <td>-0.495</td>\n",
       "      <td>-0.534</td>\n",
       "      <td>-0.232</td>\n",
       "      <td>0.292</td>\n",
       "      <td>-0.497</td>\n",
       "      <td>0.250</td>\n",
       "    </tr>\n",
       "    <tr>\n",
       "      <th>RAD</th>\n",
       "      <td>0.626</td>\n",
       "      <td>-0.312</td>\n",
       "      <td>0.595</td>\n",
       "      <td>-0.007</td>\n",
       "      <td>0.611</td>\n",
       "      <td>-0.210</td>\n",
       "      <td>0.456</td>\n",
       "      <td>-0.495</td>\n",
       "      <td>1.000</td>\n",
       "      <td>0.910</td>\n",
       "      <td>0.465</td>\n",
       "      <td>-0.444</td>\n",
       "      <td>0.489</td>\n",
       "      <td>-0.382</td>\n",
       "    </tr>\n",
       "    <tr>\n",
       "      <th>TAX</th>\n",
       "      <td>0.583</td>\n",
       "      <td>-0.315</td>\n",
       "      <td>0.721</td>\n",
       "      <td>-0.036</td>\n",
       "      <td>0.668</td>\n",
       "      <td>-0.292</td>\n",
       "      <td>0.506</td>\n",
       "      <td>-0.534</td>\n",
       "      <td>0.910</td>\n",
       "      <td>1.000</td>\n",
       "      <td>0.461</td>\n",
       "      <td>-0.442</td>\n",
       "      <td>0.544</td>\n",
       "      <td>-0.469</td>\n",
       "    </tr>\n",
       "    <tr>\n",
       "      <th>PTRATIO</th>\n",
       "      <td>0.290</td>\n",
       "      <td>-0.392</td>\n",
       "      <td>0.383</td>\n",
       "      <td>-0.122</td>\n",
       "      <td>0.189</td>\n",
       "      <td>-0.356</td>\n",
       "      <td>0.262</td>\n",
       "      <td>-0.232</td>\n",
       "      <td>0.465</td>\n",
       "      <td>0.461</td>\n",
       "      <td>1.000</td>\n",
       "      <td>-0.177</td>\n",
       "      <td>0.374</td>\n",
       "      <td>-0.508</td>\n",
       "    </tr>\n",
       "    <tr>\n",
       "      <th>B</th>\n",
       "      <td>-0.385</td>\n",
       "      <td>0.176</td>\n",
       "      <td>-0.357</td>\n",
       "      <td>0.049</td>\n",
       "      <td>-0.380</td>\n",
       "      <td>0.128</td>\n",
       "      <td>-0.274</td>\n",
       "      <td>0.292</td>\n",
       "      <td>-0.444</td>\n",
       "      <td>-0.442</td>\n",
       "      <td>-0.177</td>\n",
       "      <td>1.000</td>\n",
       "      <td>-0.366</td>\n",
       "      <td>0.333</td>\n",
       "    </tr>\n",
       "    <tr>\n",
       "      <th>LSTAT</th>\n",
       "      <td>0.456</td>\n",
       "      <td>-0.413</td>\n",
       "      <td>0.604</td>\n",
       "      <td>-0.054</td>\n",
       "      <td>0.591</td>\n",
       "      <td>-0.614</td>\n",
       "      <td>0.602</td>\n",
       "      <td>-0.497</td>\n",
       "      <td>0.489</td>\n",
       "      <td>0.544</td>\n",
       "      <td>0.374</td>\n",
       "      <td>-0.366</td>\n",
       "      <td>1.000</td>\n",
       "      <td>-0.738</td>\n",
       "    </tr>\n",
       "    <tr>\n",
       "      <th>MEDV</th>\n",
       "      <td>-0.388</td>\n",
       "      <td>0.360</td>\n",
       "      <td>-0.484</td>\n",
       "      <td>0.175</td>\n",
       "      <td>-0.427</td>\n",
       "      <td>0.695</td>\n",
       "      <td>-0.377</td>\n",
       "      <td>0.250</td>\n",
       "      <td>-0.382</td>\n",
       "      <td>-0.469</td>\n",
       "      <td>-0.508</td>\n",
       "      <td>0.333</td>\n",
       "      <td>-0.738</td>\n",
       "      <td>1.000</td>\n",
       "    </tr>\n",
       "  </tbody>\n",
       "</table>\n",
       "</div>"
      ],
      "text/plain": [
       "          CRIM     ZN  INDUS   CHAS    NOX     RM    AGE    DIS    RAD    TAX  \\\n",
       "CRIM     1.000 -0.200  0.407 -0.056  0.421 -0.219  0.353 -0.380  0.626  0.583   \n",
       "ZN      -0.200  1.000 -0.534 -0.043 -0.517  0.312 -0.570  0.664 -0.312 -0.315   \n",
       "INDUS    0.407 -0.534  1.000  0.063  0.764 -0.392  0.645 -0.708  0.595  0.721   \n",
       "CHAS    -0.056 -0.043  0.063  1.000  0.091  0.091  0.087 -0.099 -0.007 -0.036   \n",
       "NOX      0.421 -0.517  0.764  0.091  1.000 -0.302  0.731 -0.769  0.611  0.668   \n",
       "RM      -0.219  0.312 -0.392  0.091 -0.302  1.000 -0.240  0.205 -0.210 -0.292   \n",
       "AGE      0.353 -0.570  0.645  0.087  0.731 -0.240  1.000 -0.748  0.456  0.506   \n",
       "DIS     -0.380  0.664 -0.708 -0.099 -0.769  0.205 -0.748  1.000 -0.495 -0.534   \n",
       "RAD      0.626 -0.312  0.595 -0.007  0.611 -0.210  0.456 -0.495  1.000  0.910   \n",
       "TAX      0.583 -0.315  0.721 -0.036  0.668 -0.292  0.506 -0.534  0.910  1.000   \n",
       "PTRATIO  0.290 -0.392  0.383 -0.122  0.189 -0.356  0.262 -0.232  0.465  0.461   \n",
       "B       -0.385  0.176 -0.357  0.049 -0.380  0.128 -0.274  0.292 -0.444 -0.442   \n",
       "LSTAT    0.456 -0.413  0.604 -0.054  0.591 -0.614  0.602 -0.497  0.489  0.544   \n",
       "MEDV    -0.388  0.360 -0.484  0.175 -0.427  0.695 -0.377  0.250 -0.382 -0.469   \n",
       "\n",
       "         PTRATIO      B  LSTAT   MEDV  \n",
       "CRIM       0.290 -0.385  0.456 -0.388  \n",
       "ZN        -0.392  0.176 -0.413  0.360  \n",
       "INDUS      0.383 -0.357  0.604 -0.484  \n",
       "CHAS      -0.122  0.049 -0.054  0.175  \n",
       "NOX        0.189 -0.380  0.591 -0.427  \n",
       "RM        -0.356  0.128 -0.614  0.695  \n",
       "AGE        0.262 -0.274  0.602 -0.377  \n",
       "DIS       -0.232  0.292 -0.497  0.250  \n",
       "RAD        0.465 -0.444  0.489 -0.382  \n",
       "TAX        0.461 -0.442  0.544 -0.469  \n",
       "PTRATIO    1.000 -0.177  0.374 -0.508  \n",
       "B         -0.177  1.000 -0.366  0.333  \n",
       "LSTAT      0.374 -0.366  1.000 -0.738  \n",
       "MEDV      -0.508  0.333 -0.738  1.000  "
      ]
     },
     "execution_count": 123,
     "metadata": {},
     "output_type": "execute_result"
    }
   ],
   "source": [
    "corr = bos.corr(method='pearson') # create a correlation plot. I'm using the set_option ('precision',3) as above in the summary table\n",
    "corr # call it, don't use print, html included in Jupyter and it looks better."
   ]
  },
  {
   "cell_type": "code",
   "execution_count": 142,
   "metadata": {},
   "outputs": [
    {
     "data": {
      "text/plain": [
       "<matplotlib.axes._subplots.AxesSubplot at 0x2131e1ff1d0>"
      ]
     },
     "execution_count": 142,
     "metadata": {},
     "output_type": "execute_result"
    },
    {
     "data": {
      "image/png": "[encoded data removed]",
      "text/plain": [
       "<Figure size 864x504 with 2 Axes>"
      ]
     },
     "metadata": {
      "needs_background": "light"
     },
     "output_type": "display_data"
    }
   ],
   "source": [
    "plt.figure(figsize=(12,7)) # use pyplot to change the default size of the heatmap\n",
    "sns.heatmap(corr, xticklabels=corr.columns, yticklabels=corr.columns) # seaborn heatmap"
   ]
  },
  {
   "cell_type": "markdown",
   "metadata": {},
   "source": [
    "Looking at the correlation table and correlation plot, it looks like the following as examples (there are more):\n",
    "1. RAD and TAX are strongly positively correlated so as accessibility to radial highways increases, so does full value property tax.  \n",
    "2. INDUS and NOX are strongly positively correlated. It looks like nitric oxides concentration is higher where non retail businesses are present, i.e. industrial.\n",
    "3. MEDV and RM have a strong positive correlation. This makes sense, more rooms equals higher house value.\n",
    "4. MEDV and LSTAT are strongly negatively correlated. The more % lower status of the population, the less the value of the property.\n",
    "5. CRIM (per capita crime rate by town)has a strong relationship with accessibility to highways RAD so access to highways is connected to a higer crime rate. \n",
    "\n",
    " \n",
    "\n",
    "So it might be a good idea to take a look at these initially as opposed to tryign to analyse everything at once."
   ]
  },
  {
   "cell_type": "markdown",
   "metadata": {},
   "source": [
    " Exploring the distributions:"
   ]
  },
  {
   "cell_type": "code",
   "execution_count": 125,
   "metadata": {},
   "outputs": [
    {
     "data": {
      "text/plain": [
       "<function matplotlib.pyplot.hist(x, bins=None, range=None, density=None, weights=None, cumulative=False, bottom=None, histtype='bar', align='mid', orientation='vertical', rwidth=None, log=False, color=None, label=None, stacked=False, normed=None, *, data=None, **kwargs)>"
      ]
     },
     "execution_count": 125,
     "metadata": {},
     "output_type": "execute_result"
    },
    {
     "data": {
      "image/png": "[encoded data removed]",
      "text/plain": [
       "<Figure size 1296x216 with 7 Axes>"
      ]
     },
     "metadata": {
      "needs_background": "light"
     },
     "output_type": "display_data"
    },
    {
     "data": {
      "image/png": "[encoded data removed]",
      "text/plain": [
       "<Figure size 1296x216 with 7 Axes>"
      ]
     },
     "metadata": {
      "needs_background": "light"
     },
     "output_type": "display_data"
    }
   ],
   "source": [
    "# plot histograms to view the distributions of each attribute\n",
    "split1 = ['AGE','B','CHAS','CRIM','DIS','INDUS','LSTAT'] # just splitting them to view it easier\n",
    "split2 = ['MEDV','RAD','RM','TAX','ZN','PTRATIO','NOX']\n",
    "hist = bos[split1].hist(bins=20,figsize=(18,3), layout=(1,7))\n",
    "hist2 = bos[split2].hist(bins=20,figsize=(18,3), layout=(1,7))\n",
    "plt.hist # plot it\n",
    "\n"
   ]
  },
  {
   "cell_type": "markdown",
   "metadata": {},
   "source": [
    "MEDV and RM look like a normal distribution. AGE and B are skewed to the right. CHAS is attribute/categorical(either a yes or no/1 or 0 etc.). There does seem to be some noise or outliers in some of the attributes.\n",
    "\n",
    "In summary, the attributes are not all the same distribution."
   ]
  },
  {
   "cell_type": "code",
   "execution_count": 126,
   "metadata": {},
   "outputs": [
    {
     "data": {
      "text/plain": [
       "<matplotlib.axes._subplots.AxesSubplot at 0x213191bc400>"
      ]
     },
     "execution_count": 126,
     "metadata": {},
     "output_type": "execute_result"
    },
    {
     "data": {
      "image/png": "[encoded data removed]",
      "text/plain": [
       "<Figure size 432x288 with 1 Axes>"
      ]
     },
     "metadata": {
      "needs_background": "light"
     },
     "output_type": "display_data"
    }
   ],
   "source": [
    "sns.distplot(bos['MEDV'])\n",
    "sns.distplot(bos['LSTAT'])"
   ]
  },
  {
   "cell_type": "markdown",
   "metadata": {},
   "source": [
    "The following code as per the seaborn website provides a pair plot, however it's too busy. It's impossible to read and follow. \n",
    "It might be better to identify correlations or relationships of meaning as above, then split the dataset and just visualise those attributes that you are intersted in."
   ]
  },
  {
   "cell_type": "code",
   "execution_count": 127,
   "metadata": {},
   "outputs": [],
   "source": [
    "#sns.pairplot(bos), \n",
    "#plot_kws={'alpha': 0.9},\n",
    "#diag_kws={'bins': 30}"
   ]
  },
  {
   "cell_type": "code",
   "execution_count": 128,
   "metadata": {},
   "outputs": [],
   "source": [
    "attrs = ['RAD','TAX','MEDV','RM','LSTAT'] # just give me these columns/ attributes\n",
    "#bos[attrs].head() # just checking it works. I don't actually want to see it again"
   ]
  },
  {
   "cell_type": "code",
   "execution_count": 159,
   "metadata": {},
   "outputs": [
    {
     "ename": "ValueError",
     "evalue": "markers must be a singleton or a list of markers for each level of the hue variable",
     "output_type": "error",
     "traceback": [
      "\u001b[1;31m---------------------------------------------------------------------------\u001b[0m",
      "\u001b[1;31mValueError\u001b[0m                                Traceback (most recent call last)",
      "\u001b[1;32m<ipython-input-159-f4cc694c4a5d>\u001b[0m in \u001b[0;36m<module>\u001b[1;34m\u001b[0m\n\u001b[0;32m      1\u001b[0m \u001b[1;31m# create a pairplot - all variables paired with all other variables. This is a sample of attributes as defined above.\u001b[0m\u001b[1;33m\u001b[0m\u001b[1;33m\u001b[0m\u001b[1;33m\u001b[0m\u001b[0m\n\u001b[1;32m----> 2\u001b[1;33m \u001b[0msns\u001b[0m\u001b[1;33m.\u001b[0m\u001b[0mpairplot\u001b[0m\u001b[1;33m(\u001b[0m\u001b[0mbos\u001b[0m\u001b[1;33m[\u001b[0m\u001b[0mattrs\u001b[0m\u001b[1;33m]\u001b[0m\u001b[1;33m,\u001b[0m\u001b[0mplot_kws\u001b[0m\u001b[1;33m=\u001b[0m\u001b[1;33m{\u001b[0m\u001b[1;34m'alpha'\u001b[0m\u001b[1;33m:\u001b[0m\u001b[1;36m0.6\u001b[0m\u001b[1;33m}\u001b[0m\u001b[1;33m,\u001b[0m\u001b[0mdiag_kws\u001b[0m\u001b[1;33m=\u001b[0m\u001b[1;33m{\u001b[0m\u001b[1;34m'bins'\u001b[0m\u001b[1;33m:\u001b[0m\u001b[1;36m30\u001b[0m\u001b[1;33m}\u001b[0m\u001b[1;33m,\u001b[0m\u001b[0mmarkers\u001b[0m \u001b[1;33m=\u001b[0m \u001b[1;33m[\u001b[0m\u001b[1;34m\"o\"\u001b[0m\u001b[1;33m,\u001b[0m\u001b[1;34m\"s\"\u001b[0m\u001b[1;33m]\u001b[0m\u001b[1;33m)\u001b[0m\u001b[1;33m\u001b[0m\u001b[1;33m\u001b[0m\u001b[0m\n\u001b[0m",
      "\u001b[1;32m~\\AppData\\Local\\Continuum\\anaconda4\\lib\\site-packages\\seaborn\\axisgrid.py\u001b[0m in \u001b[0;36mpairplot\u001b[1;34m(data, hue, hue_order, palette, vars, x_vars, y_vars, kind, diag_kind, markers, height, aspect, dropna, plot_kws, diag_kws, grid_kws, size)\u001b[0m\n\u001b[0;32m   2094\u001b[0m             \u001b[0mmarkers\u001b[0m \u001b[1;33m=\u001b[0m \u001b[1;33m[\u001b[0m\u001b[0mmarkers\u001b[0m\u001b[1;33m]\u001b[0m \u001b[1;33m*\u001b[0m \u001b[0mn_markers\u001b[0m\u001b[1;33m\u001b[0m\u001b[1;33m\u001b[0m\u001b[0m\n\u001b[0;32m   2095\u001b[0m         \u001b[1;32mif\u001b[0m \u001b[0mlen\u001b[0m\u001b[1;33m(\u001b[0m\u001b[0mmarkers\u001b[0m\u001b[1;33m)\u001b[0m \u001b[1;33m!=\u001b[0m \u001b[0mn_markers\u001b[0m\u001b[1;33m:\u001b[0m\u001b[1;33m\u001b[0m\u001b[1;33m\u001b[0m\u001b[0m\n\u001b[1;32m-> 2096\u001b[1;33m             raise ValueError((\"markers must be a singleton or a list of \"\n\u001b[0m\u001b[0;32m   2097\u001b[0m                               \"markers for each level of the hue variable\"))\n\u001b[0;32m   2098\u001b[0m         \u001b[0mgrid\u001b[0m\u001b[1;33m.\u001b[0m\u001b[0mhue_kws\u001b[0m \u001b[1;33m=\u001b[0m \u001b[1;33m{\u001b[0m\u001b[1;34m\"marker\"\u001b[0m\u001b[1;33m:\u001b[0m \u001b[0mmarkers\u001b[0m\u001b[1;33m}\u001b[0m\u001b[1;33m\u001b[0m\u001b[1;33m\u001b[0m\u001b[0m\n",
      "\u001b[1;31mValueError\u001b[0m: markers must be a singleton or a list of markers for each level of the hue variable"
     ]
    },
    {
     "data": {
      "image/png": "[encoded data removed]",
      "text/plain": [
       "<Figure size 900x900 with 25 Axes>"
      ]
     },
     "metadata": {
      "needs_background": "light"
     },
     "output_type": "display_data"
    }
   ],
   "source": [
    "# create a pairplot - all variables paired with all other variables. This is a sample of attributes as defined above. \n",
    "sns.pairplot(bos[attrs],plot_kws={'alpha':0.6},diag_kws={'bins':30},markers = [\"o\",\"s\"])\n"
   ]
  },
  {
   "cell_type": "markdown",
   "metadata": {},
   "source": [
    "From the pairplot above, it appears that the data is not normalised and possibly needs to be transformed to determine relationships between features or when making predictions. "
   ]
  },
  {
   "cell_type": "markdown",
   "metadata": {},
   "source": [
    "Outlier Detection:"
   ]
  },
  {
   "cell_type": "markdown",
   "metadata": {},
   "source": [
    "Box plots can be easily displayed to understand distributions using the following code. Here is a quick example:"
   ]
  },
  {
   "cell_type": "code",
   "execution_count": 130,
   "metadata": {},
   "outputs": [
    {
     "data": {
      "image/png": "[encoded data removed]",
      "text/plain": [
       "<Figure size 1080x360 with 1 Axes>"
      ]
     },
     "metadata": {
      "needs_background": "light"
     },
     "output_type": "display_data"
    }
   ],
   "source": [
    "# a quick boxplot of selected attributes using Pandas.\n",
    "boxplot = bos.boxplot(column=['MEDV', 'LSTAT', 'RAD', 'INDUS', 'NOX', 'PTRATIO','AGE'],grid = True,rot=45, figsize = (15,5))\n"
   ]
  },
  {
   "cell_type": "markdown",
   "metadata": {},
   "source": [
    "## Section 3 - Inferential Statistics"
   ]
  },
  {
   "cell_type": "code",
   "execution_count": null,
   "metadata": {},
   "outputs": [],
   "source": []
  }
 ],
 "metadata": {
  "kernelspec": {
   "display_name": "Python 3",
   "language": "python",
   "name": "python3"
  },
  "language_info": {
   "codemirror_mode": {
    "name": "ipython",
    "version": 3
   },
   "file_extension": ".py",
   "mimetype": "text/x-python",
   "name": "python",
   "nbconvert_exporter": "python",
   "pygments_lexer": "ipython3",
   "version": "3.7.3"
  }
 },
 "nbformat": 4,
 "nbformat_minor": 2
}
