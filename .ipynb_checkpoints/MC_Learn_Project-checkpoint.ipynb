{
 "cells": [
  {
   "cell_type": "markdown",
   "metadata": {},
   "source": [
    "# Assignment Nov 2019 Machine Learning and Statistics - GMIT "
   ]
  },
  {
   "cell_type": "markdown",
   "metadata": {},
   "source": [
    "## Introduction and Overview"
   ]
  },
  {
   "cell_type": "markdown",
   "metadata": {},
   "source": [
    "This assignment concerns the well known Boston House Prices Dataset. The dataset was created from data taken by the US Census Service in 1978. It contains information about houses and pricing in Boston.\n",
    "\n",
    "This assignment will consist of the following sections:\n",
    "\n",
    "1. Description - Descriptive statistics and plots to describe the dataset\n",
    "2. Infer - Inferential statistics to analyse whether there is a significant difference in median house prices between those that are along the Charles river and those that are not.\n",
    "3. Predict - Create a neural network that can predict the median house price based on other variables in the dataset. "
   ]
  },
  {
   "cell_type": "code",
   "execution_count": null,
   "metadata": {},
   "outputs": [],
   "source": []
  }
 ],
 "metadata": {
  "kernelspec": {
   "display_name": "Python 3",
   "language": "python",
   "name": "python3"
  },
  "language_info": {
   "codemirror_mode": {
    "name": "ipython",
    "version": 3
   },
   "file_extension": ".py",
   "mimetype": "text/x-python",
   "name": "python",
   "nbconvert_exporter": "python",
   "pygments_lexer": "ipython3",
   "version": "3.7.3"
  }
 },
 "nbformat": 4,
 "nbformat_minor": 2
}
